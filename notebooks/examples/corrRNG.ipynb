{
 "cells": [
  {
   "cell_type": "code",
   "execution_count": 5,
   "metadata": {},
   "outputs": [],
   "source": [
    "import simulaqron\n",
    "from simulaqron.network import Network\n",
    "from cqc.pythonLib import CQCConnection\n",
    "import threading"
   ]
  },
  {
   "cell_type": "code",
   "execution_count": 7,
   "metadata": {},
   "outputs": [],
   "source": [
    "def alice():\n",
    "    with CQCConnection(\"Alice\", network_name=\"corrRNG\") as alice:\n",
    "        q = alice.createEPR(\"Bob\")\n",
    "        m = q.measure()\n",
    "        print(f\"App {alice.name}: Measurement outcome is: {m}\")\n",
    "\n",
    "def bob():\n",
    "    with CQCConnection(\"Bob\", network_name=\"corrRNG\") as bob:\n",
    "        q = bob.recvEPR()\n",
    "        m = q.measure()\n",
    "        print(f\"App {bob.name}: Measurement outcome is: {m}\")"
   ]
  },
  {
   "cell_type": "code",
   "execution_count": 12,
   "metadata": {},
   "outputs": [
    {
     "name": "stdout",
     "output_type": "stream",
     "text": [
      "App Alice: Measurement outcome is: 1\n",
      "App Bob: Measurement outcome is: 1\n"
     ]
    }
   ],
   "source": [
    "nodes = [\"Alice\", \"Bob\"]\n",
    "topology = {\"Alice\": [\"Bob\"], \"Bob\": [\"Alice\"]}\n",
    "network = Network(name=\"corrRNG\", nodes=nodes, topology=topology, force=True) \n",
    "network.start()\n",
    "\n",
    "#for i in range(10):\n",
    "aliceThread = threading.Thread(target=alice)\n",
    "bobThread = threading.Thread(target=bob)\n",
    "aliceThread.start()\n",
    "bobThread.start()\n",
    "aliceThread.join()\n",
    "bobThread.join()"
   ]
  },
  {
   "cell_type": "code",
   "execution_count": null,
   "metadata": {},
   "outputs": [],
   "source": []
  },
  {
   "cell_type": "code",
   "execution_count": null,
   "metadata": {},
   "outputs": [],
   "source": []
  }
 ],
 "metadata": {
  "kernelspec": {
   "display_name": "nexus",
   "language": "python",
   "name": "python3"
  },
  "language_info": {
   "codemirror_mode": {
    "name": "ipython",
    "version": 3
   },
   "file_extension": ".py",
   "mimetype": "text/x-python",
   "name": "python",
   "nbconvert_exporter": "python",
   "pygments_lexer": "ipython3",
   "version": "3.6.13"
  }
 },
 "nbformat": 4,
 "nbformat_minor": 2
}
