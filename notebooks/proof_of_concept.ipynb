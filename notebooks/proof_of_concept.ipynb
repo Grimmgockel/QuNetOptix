{
 "cells": [
  {
   "cell_type": "markdown",
   "metadata": {},
   "source": [
    "\n",
    "# Bachelor's Thesis - Justin Hoffmann\n",
    "### *This file acts as a proof of concept for the QI protocol software as part of my Bachelor's Thesis using **SimulaQron***"
   ]
  },
  {
   "cell_type": "markdown",
   "metadata": {},
   "source": [
    "1. Introduction\n",
    "In a Quantum Internet (QI) ... <explain what a QI is>.\n",
    "One could say an Internet running on and being complemented by quantum communication is being built at two fronts.\n",
    "<explain already done implementations>\n",
    "Then there is the development of protocols ecceeding the capabilities of classical communcation in theory and simulation.\n",
    "In [] the latter is conceptualized into <explain the stages>.\n",
    "Although these protocols are often missing years of advancements in enabling technology there are several efforts to unify their engineering process building towards and upon an entire catalogue of innovative quantum communication schemes just waiting for the progress in hardware to be made.\n",
    "One such effort is presented in [<qprotocol zoo>].\n",
    "The attempt is to standardize the QI protocol formulation, modularize protocols into sub-protocols for ease of reuse and create a knowledge repository that is closely connected to the stages of advancment of QI technology.\n",
    "The suggested framework will be implemented in the context of this work.\n",
    "\n",
    "2. SLS optimization problem\n",
    "Quantum Networks are <explain what quantum networks are>.\n",
    "This work will tackle the SLS optimization problem formulated in [].\n",
    "\n",
    "3. Experiment clustering + network design (use shortcuts paper and sls paper for network design inspiration)\n",
    "    - k-means im paper, warum k-means bloed, was benutzen wir stattdessen\n",
    "\n",
    "4. Benchmarking, Metrics and Evaluation and expected Results\n",
    "\n",
    "5. Simulaqron\n",
    "\n",
    "6. Basics\n",
    "To tackle the problem a theoretical basis has to be given beforehand.\n",
    "The most important general concepts of Quantum Information (QI) such as Qubits, Superposition, Entanglement and No-Cloning Theorem will be explained first.\n",
    "These principles in conjunction with low level quantum protocols such as Quantum Teleportation and Entanglement Swapping lay the foundation of this work.\n",
    "Furthermore, challenges regarding physical qubit transmission due to environmental phenomena like fidelity and decoherence will to be explored to give context to the problem at hand.\n",
    "The different optimization methods used in the experiment will also briefly be covered in advance.\n",
    "\n",
    "7. Protocol framework (optional basierend auf wie viel ich noch ins intro scheisse)"
   ]
  },
  {
   "cell_type": "markdown",
   "metadata": {},
   "source": [
    "**Introduction:**\n",
    "\n",
    "    - QI: a vision for the road ahead; networks stages\n",
    "    - Quantum Internet challenges / Differences btw quantum and classical networks\n",
    "        - QNs can be larger and more robust QC platforms than single QPUs\n",
    "    - Quantum Protocol zoo; goal for this work\n",
    "\n",
    "\n",
    "**Basic:**\n",
    "\n",
    "    - Qubits, Superposition, Entanglement as a resource, Maximally entangled states, pure states, mixed states\n",
    "    - (Deterministic) Quantum Teleportation, No Cloning Theorem, Entanglement Swapping (similar to link layer entanglement YT: \"Reaching for distance: entanglement swapping\")\n",
    "    - Challenges due to No-Cloning and Decoherence (Decoherence = Fidelity over time), Quantum Teleportation only way of communicating quantum information over long distance\n",
    "    - Noisy qubits/channels/networks, Decoherence in QNs and why entanglement routing is important, Entanglement distillation, Why entangling the entire network doesnt make sense (only use bipartite entangled links)\n",
    "    - Difference to classical routing and path finding, the role of classical communication in a QN\n",
    "    - Transition to and explanation of problem of this work\n",
    "\n",
    "**Related Work:**\n",
    "\n",
    "    - Talk about papers used relating to entanglement routing\n",
    "\n",
    "**Implementation:**\n",
    "\n",
    "    - Simulaqron\n",
    "        - What, who, why, vision\n",
    "        - Classical simulation of entanglement\n",
    "        - Noisy channels/networks\n",
    "        - Related work regarding simulaqron\n",
    "    - qpz-atomics and why\n",
    "    - ### CONCRETE IMPLEMENTATION ###\n",
    "\n",
    "**Experiment Design:**\n",
    "\n",
    "    - Investigate the effects of heralded entanglement generation vs ad hoc entanglement generation\n",
    "    - Do something new and compare with some older stuff\n",
    "\n",
    "    1. \"Shortcuts to quantum network routing\": Reducing collision load on lower layer edges, or introduce the \"nexus\": a quantum nodes capable of storing more qubits\n",
    "    1. \"Shortcuts to quantum network routing\": Test different netwerk topologies (grid)\n",
    "    2. \n",
    "\n",
    "    IDEA: Comparing different clustering techniques to tackle the SLS optimization problem in (random tree) quantum networks\n",
    "\n",
    "**Evaluation:**\n",
    "\n",
    "    - viz\n",
    "\n",
    "**Discussion, Application, Limitations, QZoo Entry and what the Algorithms require in terms of hardware implementation:**\n",
    "\n",
    "    - Application for Distributed Computing?"
   ]
  },
  {
   "cell_type": "markdown",
   "metadata": {},
   "source": [
    "### Abstract\n",
    "\n",
    "With quantum communication a plethora of advantages arise, unparalleled by classical communication.\n",
    "Many of those examples include: < ... >\n",
    "While optimistic pioneers already created physical QIs (China, Netherlands)... still often limited by hardware. \n",
    "There are different stages of development proposed in [].\n",
    "These stages include... and are based on the advancement and current developments.\n",
    "QN simulators like... can put QI software development into motion while still waiting for necessary hardware advancements.\n",
    "\n"
   ]
  },
  {
   "cell_type": "markdown",
   "metadata": {},
   "source": [
    "### Plan\n",
    "\n",
    "- A vision for the road ahead \n",
    "- Talk about Netherlands and China\n",
    "- Quantum Internet Adressing\n",
    "- Framework for protocol design and unification\n",
    "- Design protocol and submit to the zoo\n",
    "- Benchmark protocol against similar already done stuff"
   ]
  },
  {
   "cell_type": "markdown",
   "metadata": {},
   "source": []
  }
 ],
 "metadata": {
  "language_info": {
   "name": "python"
  }
 },
 "nbformat": 4,
 "nbformat_minor": 2
}
