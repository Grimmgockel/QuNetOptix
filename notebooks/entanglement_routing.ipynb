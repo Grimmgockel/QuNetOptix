{
 "cells": [
  {
   "cell_type": "markdown",
   "metadata": {},
   "source": [
    "# Shortcuts to quantum network routing"
   ]
  },
  {
   "cell_type": "markdown",
   "metadata": {},
   "source": [
    "### Basic Properties of Quantum Networks\n",
    "\n",
    "- Given the abstraction proposed here, routing in a quantum network can be understood as routing on VQLs that **can be assigned deliberately and dynamically**, **carry a certain cost**, **can only be used once**, and which **may expire after a given time**\n",
    "- Communication in a QN can be understood entirely as transforming the VQL graph, thus the QN topology\n",
    "- The problem of routing in a quantum network using VQLs is thus equivalent to managing entanglement in the network\n",
    "- First example will grant VQLs arbitrary lifetimes, as well as ignore the latency of classical communication (the longer classical communication takes the longer qubit lifetime has to be)\n",
    "- **Heralded entanglement advantage**: create high-quality, low-noise VQLs with time consuming entanglement distillation\n",
    "- **Objective for good routing protocol**: 1) Minimize number of memory qubits needed (no fully connected topology) 2) Minimize swapping operations / have short path\n",
    "- What the f is (Quantum) Network Coding / Linear Network Coding?\n",
    "- ***Related work section on classical networking might be useful later***\n",
    "- We need routing schemes suited for local decisions, hence hierarchal routing schemes are desierable, because VQLs are maximally dynamic by nature and can in principle be established between any nodes, specifically we can design the graph of VQLs to our routing needs\n",
    "- Notion of virtual connections is already well established in classical networking\n",
    "- There are classical routing schemes suited for highly dynamic (still not maximally dynamic) routing schemes that can be looked into (Computer Networks, Tanenbaum) \n",
    "\n",
    "\n",
    "![alt text](images/q_network_model.png)\n",
    "\n",
    "![alt text](images/qn_abstraction.png)\n",
    "\n",
    "![alt text](images/qn_comparison.png)\n",
    "\n",
    "![alt text](images/qn_subdivision.png)\n"
   ]
  },
  {
   "cell_type": "markdown",
   "metadata": {},
   "source": [
    "### Graph Notation"
   ]
  },
  {
   "cell_type": "markdown",
   "metadata": {},
   "source": [
    "### Ring Network\n",
    "### Sphere Network\n"
   ]
  },
  {
   "cell_type": "markdown",
   "metadata": {},
   "source": [
    "### Repleneshing the Network\n",
    "### Robustness of the Network\n",
    "### Discussion and open questions"
   ]
  },
  {
   "cell_type": "markdown",
   "metadata": {},
   "source": [
    "# Distributed Routing in a Quantum Internet"
   ]
  },
  {
   "cell_type": "markdown",
   "metadata": {},
   "source": [
    "# Decentralized Base-Graph Routing for the Quantum Internet"
   ]
  },
  {
   "cell_type": "markdown",
   "metadata": {},
   "source": []
  }
 ],
 "metadata": {
  "language_info": {
   "name": "python"
  }
 },
 "nbformat": 4,
 "nbformat_minor": 2
}
