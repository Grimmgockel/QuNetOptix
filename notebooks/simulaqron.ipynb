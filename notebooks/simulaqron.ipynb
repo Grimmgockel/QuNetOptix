{
 "cells": [
  {
   "cell_type": "markdown",
   "metadata": {},
   "source": [
    "### *This file acts as a source of information on **SimulaQron**, its **CLI**, **CQC**, **Twised Broker** and **NetQASM***"
   ]
  },
  {
   "cell_type": "markdown",
   "metadata": {},
   "source": [
    "## Design "
   ]
  },
  {
   "cell_type": "markdown",
   "metadata": {},
   "source": [
    "### SimulaQron\n",
    "\n",
    "What it does:\n",
    "- SimulaQron is a tool for developing software applications running on the end nodes of a QI\n",
    "- It simulates multiple QPUs held by the end nodes in single networks, as well as multiple connected networks, thus simulating QI\n",
    "- It acts as a platform-dependant stand-in mimicking a real network of multiple systems and facilitating platform-independant development w/o Q-hardware\n",
    "- Its main functionality is the simulation of qubit exchange and entanglement (w/o providing entanglement management functionalities)\n",
    "- Its modular structural design enables the use of a multitude of quantum computer simulations to serve as a backend via Python\n",
    "- The goal of SimulaQron is to realize QI based software applications which can later run and with real quantum hardware\n",
    "\n",
    "What it does not:\n",
    "- No entanglement management functionalities (still in development [20])\n",
    "- No inherent security guarantees on simulated qubits\n",
    "- Not a simulation for large scale quantum internet (testing quantum repeater schemes, error correcting codes, study the effects of noise on distant qubits etc.)\n",
    "- No simulation of realistic noise and timings (for this, use NetSquit + SimulaQron)\n",
    "- No security or authentification efforts for accessing the simulated QPUs\n",
    "\n",
    "Challenges:\n",
    "- Simulating entanglement classicly: for two entangled qubits *A* and *B* their state matrix must be virtually available to both nodes\n",
    "- Qubits as a shared resource: Gates performed can create and destroy entanglement, the common challenges for concurrent access of resources in a network apply"
   ]
  },
  {
   "cell_type": "markdown",
   "metadata": {},
   "source": [
    "### Virtual Qubits\n",
    "\n",
    "![alt text](images/virtual_nodes_simulaqron.png)"
   ]
  },
  {
   "cell_type": "markdown",
   "metadata": {},
   "source": [
    "- Each `virtualNode` can hold a number of `virtualQubit`s either simulated locally or remotely\n",
    "- Each `virtualQubit` points to its corresponding `simulatedQubit`, which does not need to be on the same `virtualNode` or in the same network\n",
    "- A `simulatedQubit` object is local to the node simulating it in its `quantumRegister`\n",
    "- To marshall the mapping of virtual qubits **Twisted's Perspective Broker** is used\n",
    "- The `quantumEngine` is the interface provided by the simulator to be made available as a backend for SimulaQron\n",
    "- The `quantumEngine` functions as a `quantumRegister` addressing individual qubits by their position in the register\n",
    "- Every `simulatedQubit` is manipulated directly w/o interacting with the `quantumRegister`\n",
    "- Every `simulatedQubit` keeps track of its position in the register, thus preventing arbitrary growth of the register when removing and adding qubits to it (i.e. by measuring) \n",
    "- Two entangled `virtualQubit`s corresponding `simulatedQubit`s have to both be located within the same `quantumRegister`, requiring the `virtualNode` design\n",
    "- The management behind `virtualQubit`s is client-server-based for every application using SimulaQron, giving full access to `virtualQubit`s in the system\n"
   ]
  },
  {
   "cell_type": "markdown",
   "metadata": {},
   "source": [
    "### Register merges"
   ]
  },
  {
   "cell_type": "markdown",
   "metadata": {},
   "source": [
    "- Centralized qubit management has lots of drawbacks -> distributed qubit management\n",
    "- 'Each classical computer participating in the QI contributes its share to realize the overall simulation'\n",
    "- **Problem:** Two `virtualQubit`s A and B have their `simulatedQubit`s on different nodes in the network, so an entangling operation on these qubits would require the `simulatedQubit`s to be moved to the same `quantumRegister` \n",
    "- **Solution:** transparent merging of registers (see img)\n",
    "- For such merges, locking is required (SimulaQron currently uses simple and inefficient locking, which might be improved upon in the future)\n",
    "\n",
    "![alt text](images/register_merging_simulaqron.png)\n",
    "\n",
    "*Alice* and *Bob* initially share an *EPR-Pair* w/ both entangled `simulatedQubit`s in *Alice*'s `quantumRegister`.\n",
    "*Bob* then performs a **CNOT** w/ one of his registers `simulatedQubit`s and one of *Alice*'s registers `simulatedQubit`s creating a *GHZ-state*.\n",
    "The registers are merged and all three entangled qubits are located in *Alice*'s `quantumRegister` as `simulatedQubit`s while *Charlie* and *Bob* keep their references in the form of `virtualQubit`s."
   ]
  },
  {
   "cell_type": "markdown",
   "metadata": {},
   "source": [
    "## CQC\n",
    "\n",
    "- **CQC** is a low level instruction set for quantum gates and measurements, combining classical and quantum communication.\n",
    "- It enables applications to be programmed independant of the underlying platform, as long as the underlying platform provides the **CQC** interface\n",
    "- Any language able to connect to the CQC server backend over a TCP connection can be used to develop using SimulaQron\n",
    "- There is a CQC message format\n",
    "- Requests may be given as single messages or batch jobs for complex operations\n",
    "- CQC works w/ different message *types*\n",
    "- Most basic message type: **COMMAND** (performs a specified command)\n",
    "- CQC messages also contain meta data: CQC version, app id, length of msg, qubit id, ip, port of qubit dest node\n",
    "- see table for options\n",
    "- you can attach a list of commands for further exectution after the command has been executed or if a measurement outcome is of a certain value, which yields speed important for actual quantum networks concerning decoherence\n",
    "\n",
    "![alt text](images/cqc_command_options.png)\n",
    "\n",
    "\n"
   ]
  },
  {
   "cell_type": "markdown",
   "metadata": {},
   "source": [
    "### Message types\n",
    "\n",
    "Message types from application to hardware/Simulaqron\n",
    "\n",
    "![alt text](images/app2hardware_msgs_simulaqron.png)\n",
    "\n",
    "\n",
    "Message types from hardware/Simulaqron to application\n",
    "\n",
    "![alt text](images/hardware2app_msgs_simulaqron.png)"
   ]
  },
  {
   "cell_type": "markdown",
   "metadata": {},
   "source": [
    "### Possible Commands\n",
    "\n",
    "![alt text](images/cqc_commands.png)"
   ]
  },
  {
   "cell_type": "code",
   "execution_count": null,
   "metadata": {},
   "outputs": [],
   "source": []
  }
 ],
 "metadata": {
  "kernelspec": {
   "display_name": "qnexus3.8",
   "language": "python",
   "name": "python3"
  },
  "language_info": {
   "codemirror_mode": {
    "name": "ipython",
    "version": 3
   },
   "file_extension": ".py",
   "mimetype": "text/x-python",
   "name": "python",
   "nbconvert_exporter": "python",
   "pygments_lexer": "ipython3",
   "version": "3.6.13"
  }
 },
 "nbformat": 4,
 "nbformat_minor": 2
}
