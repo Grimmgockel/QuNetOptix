{
 "cells": [
  {
   "cell_type": "code",
   "execution_count": 7,
   "metadata": {},
   "outputs": [],
   "source": [
    "import simulaqron\n",
    "from simulaqron.network import Network\n",
    "from cqc.pythonLib import CQCConnection\n",
    "from cqc.pythonLib import qubit\n",
    "import threading"
   ]
  },
  {
   "cell_type": "code",
   "execution_count": 8,
   "metadata": {},
   "outputs": [],
   "source": [
    "def alice():\n",
    "    with CQCConnection(\"Alice\", network_name=\"teleportation\") as alice:\n",
    "        # setup entanglement\n",
    "        qA = alice.createEPR(\"Bob\")\n",
    "\n",
    "        # qubit to be teleported\n",
    "        qT = qubit(alice)\n",
    "        qT.H()\n",
    "\n",
    "        # bell measurement\n",
    "        qT.cnot(qA)\n",
    "        qT.H()\n",
    "\n",
    "        # measure for correction\n",
    "        a = qT.measure()\n",
    "        b = qA.measure()\n",
    "        alice.sendClassical(\"Bob\", [a, b])\n",
    "\n",
    "def bob():\n",
    "    with CQCConnection(\"Bob\", network_name=\"teleportation\") as bob:\n",
    "        # setup entanglement\n",
    "        qB = bob.recvEPR()\n",
    "\n",
    "        # receive corrections\n",
    "        msg = bob.recvClassical()\n",
    "        data = list(msg)\n",
    "        a = data[0]\n",
    "        b = data[1]\n",
    "\n",
    "        # apply corrections\n",
    "        if b == 1: qB.X()\n",
    "        if a == 1: qB.Z()\n",
    "\n",
    "        # measure\n",
    "        m = qB.measure()\n",
    "        print(f\"Bob's meas. out.: {m}\")"
   ]
  },
  {
   "cell_type": "code",
   "execution_count": 9,
   "metadata": {},
   "outputs": [
    {
     "name": "stdout",
     "output_type": "stream",
     "text": [
      "Bob's meas. out.: 1\n",
      "Bob's meas. out.: 1\n",
      "Bob's meas. out.: 1\n",
      "Bob's meas. out.: 1\n",
      "Bob's meas. out.: 0\n",
      "Bob's meas. out.: 0\n",
      "Bob's meas. out.: 0\n",
      "Bob's meas. out.: 0\n",
      "Bob's meas. out.: 0\n",
      "Bob's meas. out.: 0\n"
     ]
    }
   ],
   "source": [
    "nodes = [\"Alice\", \"Bob\"]\n",
    "topology = {\"Alice\": [\"Bob\"], \"Bob\": [\"Alice\"]}\n",
    "network_name = \"teleportation\"\n",
    "network = Network(name=network_name, nodes=nodes, topology=topology, force=True) \n",
    "network.start()\n",
    "\n",
    "\n",
    "for i in range(10):\n",
    "    aliceThread = threading.Thread(target=alice)\n",
    "    bobThread = threading.Thread(target=bob)\n",
    "\n",
    "    aliceThread.start()\n",
    "    bobThread.start()\n",
    "\n",
    "    aliceThread.join()\n",
    "    bobThread.join()"
   ]
  },
  {
   "cell_type": "code",
   "execution_count": null,
   "metadata": {},
   "outputs": [],
   "source": []
  }
 ],
 "metadata": {
  "kernelspec": {
   "display_name": "nexus",
   "language": "python",
   "name": "python3"
  },
  "language_info": {
   "codemirror_mode": {
    "name": "ipython",
    "version": 3
   },
   "file_extension": ".py",
   "mimetype": "text/x-python",
   "name": "python",
   "nbconvert_exporter": "python",
   "pygments_lexer": "ipython3",
   "version": "3.6.13"
  }
 },
 "nbformat": 4,
 "nbformat_minor": 2
}
